{
 "cells": [
  {
   "cell_type": "code",
   "execution_count": null,
   "metadata": {},
   "outputs": [],
   "source": []
  },
  {
   "cell_type": "code",
   "execution_count": null,
   "metadata": {},
   "outputs": [],
   "source": [
    "## Real Time Traffic Event Dtection from Social Media(Twitter)"
   ]
  },
  {
   "cell_type": "code",
   "execution_count": null,
   "metadata": {},
   "outputs": [],
   "source": []
  },
  {
   "cell_type": "markdown",
   "metadata": {},
   "source": [
    "# Read raw text"
   ]
  },
  {
   "cell_type": "code",
   "execution_count": 1,
   "metadata": {},
   "outputs": [
    {
     "data": {
      "text/html": [
       "<div>\n",
       "<style scoped>\n",
       "    .dataframe tbody tr th:only-of-type {\n",
       "        vertical-align: middle;\n",
       "    }\n",
       "\n",
       "    .dataframe tbody tr th {\n",
       "        vertical-align: top;\n",
       "    }\n",
       "\n",
       "    .dataframe thead th {\n",
       "        text-align: right;\n",
       "    }\n",
       "</style>\n",
       "<table border=\"1\" class=\"dataframe\">\n",
       "  <thead>\n",
       "    <tr style=\"text-align: right;\">\n",
       "      <th></th>\n",
       "      <th>traffic_twt</th>\n",
       "    </tr>\n",
       "  </thead>\n",
       "  <tbody>\n",
       "    <tr>\n",
       "      <th>0</th>\n",
       "      <td>Traffic is normal on Road towards Bridge from Crossing</td>\n",
       "    </tr>\n",
       "    <tr>\n",
       "      <th>1</th>\n",
       "      <td>Broken down vehicle has been removed from Flyover near building</td>\n",
       "    </tr>\n",
       "    <tr>\n",
       "      <th>2</th>\n",
       "      <td>Sudden breakdown of a vehicle on Flyover near building has slowed down the traffic towards 7 Poi...</td>\n",
       "    </tr>\n",
       "    <tr>\n",
       "      <th>3</th>\n",
       "      <td>Due to a dispersal of Academy traffic is slow on Road towards Bridge from Crossing</td>\n",
       "    </tr>\n",
       "    <tr>\n",
       "      <th>4</th>\n",
       "      <td>Broken down vehicle has been removed from Bose Flyover near ramp</td>\n",
       "    </tr>\n",
       "  </tbody>\n",
       "</table>\n",
       "</div>"
      ],
      "text/plain": [
       "                                                                                           traffic_twt\n",
       "0                                               Traffic is normal on Road towards Bridge from Crossing\n",
       "1                                      Broken down vehicle has been removed from Flyover near building\n",
       "2  Sudden breakdown of a vehicle on Flyover near building has slowed down the traffic towards 7 Poi...\n",
       "3                   Due to a dispersal of Academy traffic is slow on Road towards Bridge from Crossing\n",
       "4                                     Broken down vehicle has been removed from Bose Flyover near ramp"
      ]
     },
     "execution_count": 1,
     "metadata": {},
     "output_type": "execute_result"
    }
   ],
   "source": [
    "import pandas as pd\n",
    "import numpy as np\n",
    "import re\n",
    "import string\n",
    "import nltk\n",
    "import matplotlib.pyplot as plt\n",
    "%matplotlib inline\n",
    "\n",
    "pd.set_option('display.max_colwidth', 100)# set colwidth\n",
    "\n",
    "stopwords = nltk.corpus.stopwords.words('english')\n",
    "\n",
    "data = pd.read_csv(\"TrafficTweets\", header = None)\n",
    "\n",
    "data.columns = ['traffic_twt']# set column header\n",
    "data.head()# print first 5 rows"
   ]
  },
  {
   "cell_type": "markdown",
   "metadata": {},
   "source": [
    "# Cleaning and Lemmatization"
   ]
  },
  {
   "cell_type": "code",
   "execution_count": 2,
   "metadata": {},
   "outputs": [],
   "source": [
    "wn = nltk.WordNetLemmatizer()\n",
    "ps = nltk.PorterStemmer()\n",
    "\n",
    "def clean_text(text):\n",
    "    text = \"\".join([c for c in text if c not in string.punctuation])\n",
    "    tokens = re.split('\\W+', text)# split on non-word char\n",
    "    text = [wn.lemmatize(word) for word in tokens if word not in stopwords]\n",
    "    return text"
   ]
  },
  {
   "cell_type": "code",
   "execution_count": 3,
   "metadata": {},
   "outputs": [
    {
     "data": {
      "text/html": [
       "<div>\n",
       "<style scoped>\n",
       "    .dataframe tbody tr th:only-of-type {\n",
       "        vertical-align: middle;\n",
       "    }\n",
       "\n",
       "    .dataframe tbody tr th {\n",
       "        vertical-align: top;\n",
       "    }\n",
       "\n",
       "    .dataframe thead th {\n",
       "        text-align: right;\n",
       "    }\n",
       "</style>\n",
       "<table border=\"1\" class=\"dataframe\">\n",
       "  <thead>\n",
       "    <tr style=\"text-align: right;\">\n",
       "      <th></th>\n",
       "      <th>traffic_twt</th>\n",
       "      <th>twt_clean</th>\n",
       "    </tr>\n",
       "  </thead>\n",
       "  <tbody>\n",
       "    <tr>\n",
       "      <th>0</th>\n",
       "      <td>Traffic is normal on Road towards Bridge from Crossing</td>\n",
       "      <td>[traffic, normal, road, towards, bridge, crossing]</td>\n",
       "    </tr>\n",
       "    <tr>\n",
       "      <th>1</th>\n",
       "      <td>Broken down vehicle has been removed from Flyover near building</td>\n",
       "      <td>[broken, vehicle, removed, flyover, near, building]</td>\n",
       "    </tr>\n",
       "    <tr>\n",
       "      <th>2</th>\n",
       "      <td>Sudden breakdown of a vehicle on Flyover near building has slowed down the traffic towards 7 Poi...</td>\n",
       "      <td>[sudden, breakdown, vehicle, flyover, near, building, slowed, traffic, towards, 7, point, crossing]</td>\n",
       "    </tr>\n",
       "    <tr>\n",
       "      <th>3</th>\n",
       "      <td>Due to a dispersal of Academy traffic is slow on Road towards Bridge from Crossing</td>\n",
       "      <td>[due, dispersal, academy, traffic, slow, road, towards, bridge, crossing]</td>\n",
       "    </tr>\n",
       "    <tr>\n",
       "      <th>4</th>\n",
       "      <td>Broken down vehicle has been removed from Bose Flyover near ramp</td>\n",
       "      <td>[broken, vehicle, removed, bose, flyover, near, ramp]</td>\n",
       "    </tr>\n",
       "  </tbody>\n",
       "</table>\n",
       "</div>"
      ],
      "text/plain": [
       "                                                                                           traffic_twt  \\\n",
       "0                                               Traffic is normal on Road towards Bridge from Crossing   \n",
       "1                                      Broken down vehicle has been removed from Flyover near building   \n",
       "2  Sudden breakdown of a vehicle on Flyover near building has slowed down the traffic towards 7 Poi...   \n",
       "3                   Due to a dispersal of Academy traffic is slow on Road towards Bridge from Crossing   \n",
       "4                                     Broken down vehicle has been removed from Bose Flyover near ramp   \n",
       "\n",
       "                                                                                             twt_clean  \n",
       "0                                                   [traffic, normal, road, towards, bridge, crossing]  \n",
       "1                                                  [broken, vehicle, removed, flyover, near, building]  \n",
       "2  [sudden, breakdown, vehicle, flyover, near, building, slowed, traffic, towards, 7, point, crossing]  \n",
       "3                            [due, dispersal, academy, traffic, slow, road, towards, bridge, crossing]  \n",
       "4                                                [broken, vehicle, removed, bose, flyover, near, ramp]  "
      ]
     },
     "execution_count": 3,
     "metadata": {},
     "output_type": "execute_result"
    }
   ],
   "source": [
    "data['twt_clean'] = data['traffic_twt'].apply(lambda x: clean_text(x.lower()))\n",
    "data.head()"
   ]
  },
  {
   "cell_type": "markdown",
   "metadata": {},
   "source": [
    "# Status evolution"
   ]
  },
  {
   "cell_type": "code",
   "execution_count": 4,
   "metadata": {},
   "outputs": [
    {
     "data": {
      "text/html": [
       "<div>\n",
       "<style scoped>\n",
       "    .dataframe tbody tr th:only-of-type {\n",
       "        vertical-align: middle;\n",
       "    }\n",
       "\n",
       "    .dataframe tbody tr th {\n",
       "        vertical-align: top;\n",
       "    }\n",
       "\n",
       "    .dataframe thead th {\n",
       "        text-align: right;\n",
       "    }\n",
       "</style>\n",
       "<table border=\"1\" class=\"dataframe\">\n",
       "  <thead>\n",
       "    <tr style=\"text-align: right;\">\n",
       "      <th></th>\n",
       "      <th>traffic_twt</th>\n",
       "      <th>twt_clean</th>\n",
       "      <th>traffic_class</th>\n",
       "    </tr>\n",
       "  </thead>\n",
       "  <tbody>\n",
       "    <tr>\n",
       "      <th>0</th>\n",
       "      <td>Traffic is normal on Road towards Bridge from Crossing</td>\n",
       "      <td>[traffic, normal, road, towards, bridge, crossing]</td>\n",
       "      <td>normal traffic</td>\n",
       "    </tr>\n",
       "    <tr>\n",
       "      <th>1</th>\n",
       "      <td>Broken down vehicle has been removed from Flyover near building</td>\n",
       "      <td>[broken, vehicle, removed, flyover, near, building]</td>\n",
       "      <td>external event</td>\n",
       "    </tr>\n",
       "    <tr>\n",
       "      <th>2</th>\n",
       "      <td>Sudden breakdown of a vehicle on Flyover near building has slowed down the traffic towards 7 Poi...</td>\n",
       "      <td>[sudden, breakdown, vehicle, flyover, near, building, slowed, traffic, towards, 7, point, crossing]</td>\n",
       "      <td>external event</td>\n",
       "    </tr>\n",
       "    <tr>\n",
       "      <th>3</th>\n",
       "      <td>Due to a dispersal of Academy traffic is slow on Road towards Bridge from Crossing</td>\n",
       "      <td>[due, dispersal, academy, traffic, slow, road, towards, bridge, crossing]</td>\n",
       "      <td>crash or congestion</td>\n",
       "    </tr>\n",
       "    <tr>\n",
       "      <th>4</th>\n",
       "      <td>Broken down vehicle has been removed from Bose Flyover near ramp</td>\n",
       "      <td>[broken, vehicle, removed, bose, flyover, near, ramp]</td>\n",
       "      <td>external event</td>\n",
       "    </tr>\n",
       "  </tbody>\n",
       "</table>\n",
       "</div>"
      ],
      "text/plain": [
       "                                                                                           traffic_twt  \\\n",
       "0                                               Traffic is normal on Road towards Bridge from Crossing   \n",
       "1                                      Broken down vehicle has been removed from Flyover near building   \n",
       "2  Sudden breakdown of a vehicle on Flyover near building has slowed down the traffic towards 7 Poi...   \n",
       "3                   Due to a dispersal of Academy traffic is slow on Road towards Bridge from Crossing   \n",
       "4                                     Broken down vehicle has been removed from Bose Flyover near ramp   \n",
       "\n",
       "                                                                                             twt_clean  \\\n",
       "0                                                   [traffic, normal, road, towards, bridge, crossing]   \n",
       "1                                                  [broken, vehicle, removed, flyover, near, building]   \n",
       "2  [sudden, breakdown, vehicle, flyover, near, building, slowed, traffic, towards, 7, point, crossing]   \n",
       "3                            [due, dispersal, academy, traffic, slow, road, towards, bridge, crossing]   \n",
       "4                                                [broken, vehicle, removed, bose, flyover, near, ramp]   \n",
       "\n",
       "         traffic_class  \n",
       "0       normal traffic  \n",
       "1       external event  \n",
       "2       external event  \n",
       "3  crash or congestion  \n",
       "4       external event  "
      ]
     },
     "execution_count": 4,
     "metadata": {},
     "output_type": "execute_result"
    }
   ],
   "source": [
    "def classification(txt):\n",
    "\n",
    "    dictionary = {'external event' : ['festival', 'match', 'concert', 'procession', 'rain', 'rainfall', 'campaign', 'obstruction', 'vehicle'],\n",
    "                  'crash or congestion' : ['crash', 'congestion', 'gather', 'dispersal'],\n",
    "                  'normal traffic' : ['normal', 'usual', 'free']\n",
    "                 }\n",
    "\n",
    "    check1 =  any(item in txt for item in dictionary['external event']) \n",
    "    check2 =  any(item in txt for item in dictionary['crash or congestion'])\n",
    "    check3 =  any(item in txt for item in dictionary['normal traffic'])\n",
    "\n",
    "    if check1 is True:\n",
    "        return \"external event\"\n",
    "    elif check2 is True:\n",
    "        return \"crash or congestion\"\n",
    "    elif check3 is True:\n",
    "        return \"normal traffic\"\n",
    "    else:\n",
    "        return \"external event\"\n",
    "\n",
    "       \n",
    "data['traffic_class'] = data['twt_clean'].apply(lambda x: classification(x))\n",
    "\n",
    "data.head()"
   ]
  },
  {
   "cell_type": "code",
   "execution_count": 5,
   "metadata": {},
   "outputs": [
    {
     "data": {
      "text/html": [
       "<div>\n",
       "<style scoped>\n",
       "    .dataframe tbody tr th:only-of-type {\n",
       "        vertical-align: middle;\n",
       "    }\n",
       "\n",
       "    .dataframe tbody tr th {\n",
       "        vertical-align: top;\n",
       "    }\n",
       "\n",
       "    .dataframe thead th {\n",
       "        text-align: right;\n",
       "    }\n",
       "</style>\n",
       "<table border=\"1\" class=\"dataframe\">\n",
       "  <thead>\n",
       "    <tr style=\"text-align: right;\">\n",
       "      <th></th>\n",
       "      <th>traffic_twt</th>\n",
       "      <th>twt_clean</th>\n",
       "      <th>traffic_class</th>\n",
       "      <th>traffic_status</th>\n",
       "    </tr>\n",
       "  </thead>\n",
       "  <tbody>\n",
       "    <tr>\n",
       "      <th>0</th>\n",
       "      <td>Traffic is normal on Road towards Bridge from Crossing</td>\n",
       "      <td>[traffic, normal, road, towards, bridge, crossing]</td>\n",
       "      <td>normal traffic</td>\n",
       "      <td>0</td>\n",
       "    </tr>\n",
       "    <tr>\n",
       "      <th>1</th>\n",
       "      <td>Broken down vehicle has been removed from Flyover near building</td>\n",
       "      <td>[broken, vehicle, removed, flyover, near, building]</td>\n",
       "      <td>external event</td>\n",
       "      <td>1</td>\n",
       "    </tr>\n",
       "    <tr>\n",
       "      <th>2</th>\n",
       "      <td>Sudden breakdown of a vehicle on Flyover near building has slowed down the traffic towards 7 Poi...</td>\n",
       "      <td>[sudden, breakdown, vehicle, flyover, near, building, slowed, traffic, towards, 7, point, crossing]</td>\n",
       "      <td>external event</td>\n",
       "      <td>1</td>\n",
       "    </tr>\n",
       "    <tr>\n",
       "      <th>3</th>\n",
       "      <td>Due to a dispersal of Academy traffic is slow on Road towards Bridge from Crossing</td>\n",
       "      <td>[due, dispersal, academy, traffic, slow, road, towards, bridge, crossing]</td>\n",
       "      <td>crash or congestion</td>\n",
       "      <td>1</td>\n",
       "    </tr>\n",
       "    <tr>\n",
       "      <th>4</th>\n",
       "      <td>Broken down vehicle has been removed from Bose Flyover near ramp</td>\n",
       "      <td>[broken, vehicle, removed, bose, flyover, near, ramp]</td>\n",
       "      <td>external event</td>\n",
       "      <td>1</td>\n",
       "    </tr>\n",
       "  </tbody>\n",
       "</table>\n",
       "</div>"
      ],
      "text/plain": [
       "                                                                                           traffic_twt  \\\n",
       "0                                               Traffic is normal on Road towards Bridge from Crossing   \n",
       "1                                      Broken down vehicle has been removed from Flyover near building   \n",
       "2  Sudden breakdown of a vehicle on Flyover near building has slowed down the traffic towards 7 Poi...   \n",
       "3                   Due to a dispersal of Academy traffic is slow on Road towards Bridge from Crossing   \n",
       "4                                     Broken down vehicle has been removed from Bose Flyover near ramp   \n",
       "\n",
       "                                                                                             twt_clean  \\\n",
       "0                                                   [traffic, normal, road, towards, bridge, crossing]   \n",
       "1                                                  [broken, vehicle, removed, flyover, near, building]   \n",
       "2  [sudden, breakdown, vehicle, flyover, near, building, slowed, traffic, towards, 7, point, crossing]   \n",
       "3                            [due, dispersal, academy, traffic, slow, road, towards, bridge, crossing]   \n",
       "4                                                [broken, vehicle, removed, bose, flyover, near, ramp]   \n",
       "\n",
       "         traffic_class traffic_status  \n",
       "0       normal traffic              0  \n",
       "1       external event              1  \n",
       "2       external event              1  \n",
       "3  crash or congestion              1  \n",
       "4       external event              1  "
      ]
     },
     "execution_count": 5,
     "metadata": {},
     "output_type": "execute_result"
    }
   ],
   "source": [
    "def status(txt):\n",
    "\n",
    "    dictionary = {'external event' : ['festival', 'match', 'concert', 'procession', 'rain', 'rainfall', 'campaign', 'obstruction', 'vehicle'],\n",
    "                  'crash or congestion' : ['crash', 'congestion', 'gather', 'dispersal'],\n",
    "                  'normal traffic' : ['normal', 'usual', 'free']\n",
    "                 }\n",
    "\n",
    "    check1 =  any(item in txt for item in dictionary['external event']) \n",
    "    check2 =  any(item in txt for item in dictionary['crash or congestion'])\n",
    "    check3 =  any(item in txt for item in dictionary['normal traffic'])\n",
    "\n",
    "    if check1 is True:\n",
    "        return \"1\"\n",
    "    elif check2 is True:\n",
    "        return \"1\"\n",
    "    elif check3 is True:\n",
    "        return \"0\"\n",
    "    else:\n",
    "        return \"1\"\n",
    "\n",
    "       \n",
    "data['traffic_status'] = data['twt_clean'].apply(lambda x: status(x))\n",
    "\n",
    "data.head()"
   ]
  },
  {
   "cell_type": "markdown",
   "metadata": {},
   "source": [
    "# Data visualization"
   ]
  },
  {
   "cell_type": "code",
   "execution_count": 6,
   "metadata": {},
   "outputs": [
    {
     "ename": "TypeError",
     "evalue": "unhashable type: 'list'",
     "output_type": "error",
     "traceback": [
      "\u001b[1;31m---------------------------------------------------------------------------\u001b[0m",
      "\u001b[1;31mTypeError\u001b[0m                                 Traceback (most recent call last)",
      "\u001b[1;32mpandas\\_libs\\hashtable_class_helper.pxi\u001b[0m in \u001b[0;36mpandas._libs.hashtable.PyObjectHashTable.map_locations\u001b[1;34m()\u001b[0m\n",
      "\u001b[1;31mTypeError\u001b[0m: unhashable type: 'list'"
     ]
    },
    {
     "name": "stderr",
     "output_type": "stream",
     "text": [
      "Exception ignored in: 'pandas._libs.index.IndexEngine._call_map_locations'\n",
      "Traceback (most recent call last):\n",
      "  File \"pandas\\_libs\\hashtable_class_helper.pxi\", line 1652, in pandas._libs.hashtable.PyObjectHashTable.map_locations\n",
      "TypeError: unhashable type: 'list'\n"
     ]
    },
    {
     "data": {
      "text/html": [
       "<div>\n",
       "<style scoped>\n",
       "    .dataframe tbody tr th:only-of-type {\n",
       "        vertical-align: middle;\n",
       "    }\n",
       "\n",
       "    .dataframe tbody tr th {\n",
       "        vertical-align: top;\n",
       "    }\n",
       "\n",
       "    .dataframe thead th {\n",
       "        text-align: right;\n",
       "    }\n",
       "</style>\n",
       "<table border=\"1\" class=\"dataframe\">\n",
       "  <thead>\n",
       "    <tr style=\"text-align: right;\">\n",
       "      <th></th>\n",
       "      <th>traffic_twt</th>\n",
       "      <th>twt_clean</th>\n",
       "      <th>traffic_class</th>\n",
       "      <th>traffic_status</th>\n",
       "    </tr>\n",
       "  </thead>\n",
       "  <tbody>\n",
       "    <tr>\n",
       "      <th>count</th>\n",
       "      <td>18291</td>\n",
       "      <td>18291</td>\n",
       "      <td>18291</td>\n",
       "      <td>18291</td>\n",
       "    </tr>\n",
       "    <tr>\n",
       "      <th>unique</th>\n",
       "      <td>13571</td>\n",
       "      <td>12510</td>\n",
       "      <td>3</td>\n",
       "      <td>2</td>\n",
       "    </tr>\n",
       "    <tr>\n",
       "      <th>top</th>\n",
       "      <td>Broken down vehicle has been removed from Flyover</td>\n",
       "      <td>[broken, vehicle, removed, flyover]</td>\n",
       "      <td>external event</td>\n",
       "      <td>1</td>\n",
       "    </tr>\n",
       "    <tr>\n",
       "      <th>freq</th>\n",
       "      <td>95</td>\n",
       "      <td>181</td>\n",
       "      <td>13236</td>\n",
       "      <td>13533</td>\n",
       "    </tr>\n",
       "  </tbody>\n",
       "</table>\n",
       "</div>"
      ],
      "text/plain": [
       "                                              traffic_twt  \\\n",
       "count                                               18291   \n",
       "unique                                              13571   \n",
       "top     Broken down vehicle has been removed from Flyover   \n",
       "freq                                                   95   \n",
       "\n",
       "                                  twt_clean   traffic_class traffic_status  \n",
       "count                                 18291           18291          18291  \n",
       "unique                                12510               3              2  \n",
       "top     [broken, vehicle, removed, flyover]  external event              1  \n",
       "freq                                    181           13236          13533  "
      ]
     },
     "execution_count": 6,
     "metadata": {},
     "output_type": "execute_result"
    }
   ],
   "source": [
    "data.describe()"
   ]
  },
  {
   "cell_type": "code",
   "execution_count": 7,
   "metadata": {},
   "outputs": [
    {
     "ename": "TypeError",
     "evalue": "unhashable type: 'list'",
     "output_type": "error",
     "traceback": [
      "\u001b[1;31m---------------------------------------------------------------------------\u001b[0m",
      "\u001b[1;31mTypeError\u001b[0m                                 Traceback (most recent call last)",
      "\u001b[1;32mpandas\\_libs\\hashtable_class_helper.pxi\u001b[0m in \u001b[0;36mpandas._libs.hashtable.PyObjectHashTable.map_locations\u001b[1;34m()\u001b[0m\n",
      "\u001b[1;31mTypeError\u001b[0m: unhashable type: 'list'"
     ]
    },
    {
     "name": "stderr",
     "output_type": "stream",
     "text": [
      "Exception ignored in: 'pandas._libs.index.IndexEngine._call_map_locations'\n",
      "Traceback (most recent call last):\n",
      "  File \"pandas\\_libs\\hashtable_class_helper.pxi\", line 1652, in pandas._libs.hashtable.PyObjectHashTable.map_locations\n",
      "TypeError: unhashable type: 'list'\n"
     ]
    },
    {
     "ename": "TypeError",
     "evalue": "unhashable type: 'list'",
     "output_type": "error",
     "traceback": [
      "\u001b[1;31m---------------------------------------------------------------------------\u001b[0m",
      "\u001b[1;31mTypeError\u001b[0m                                 Traceback (most recent call last)",
      "\u001b[1;32mpandas\\_libs\\hashtable_class_helper.pxi\u001b[0m in \u001b[0;36mpandas._libs.hashtable.PyObjectHashTable.map_locations\u001b[1;34m()\u001b[0m\n",
      "\u001b[1;31mTypeError\u001b[0m: unhashable type: 'list'"
     ]
    },
    {
     "name": "stderr",
     "output_type": "stream",
     "text": [
      "Exception ignored in: 'pandas._libs.index.IndexEngine._call_map_locations'\n",
      "Traceback (most recent call last):\n",
      "  File \"pandas\\_libs\\hashtable_class_helper.pxi\", line 1652, in pandas._libs.hashtable.PyObjectHashTable.map_locations\n",
      "TypeError: unhashable type: 'list'\n"
     ]
    },
    {
     "data": {
      "text/html": [
       "<div>\n",
       "<style scoped>\n",
       "    .dataframe tbody tr th:only-of-type {\n",
       "        vertical-align: middle;\n",
       "    }\n",
       "\n",
       "    .dataframe tbody tr th {\n",
       "        vertical-align: top;\n",
       "    }\n",
       "\n",
       "    .dataframe thead th {\n",
       "        text-align: right;\n",
       "    }\n",
       "</style>\n",
       "<table border=\"1\" class=\"dataframe\">\n",
       "  <thead>\n",
       "    <tr style=\"text-align: right;\">\n",
       "      <th></th>\n",
       "      <th>traffic_status</th>\n",
       "      <th>0</th>\n",
       "      <th>1</th>\n",
       "    </tr>\n",
       "  </thead>\n",
       "  <tbody>\n",
       "    <tr>\n",
       "      <th rowspan=\"4\" valign=\"top\">traffic_twt</th>\n",
       "      <th>count</th>\n",
       "      <td>4758</td>\n",
       "      <td>13533</td>\n",
       "    </tr>\n",
       "    <tr>\n",
       "      <th>unique</th>\n",
       "      <td>3043</td>\n",
       "      <td>10528</td>\n",
       "    </tr>\n",
       "    <tr>\n",
       "      <th>top</th>\n",
       "      <td>Road is free to traffic</td>\n",
       "      <td>Broken down vehicle has been removed from Flyover</td>\n",
       "    </tr>\n",
       "    <tr>\n",
       "      <th>freq</th>\n",
       "      <td>89</td>\n",
       "      <td>95</td>\n",
       "    </tr>\n",
       "    <tr>\n",
       "      <th rowspan=\"4\" valign=\"top\">twt_clean</th>\n",
       "      <th>count</th>\n",
       "      <td>4758</td>\n",
       "      <td>13533</td>\n",
       "    </tr>\n",
       "    <tr>\n",
       "      <th>unique</th>\n",
       "      <td>2654</td>\n",
       "      <td>9856</td>\n",
       "    </tr>\n",
       "    <tr>\n",
       "      <th>top</th>\n",
       "      <td>[flyover, free, traffic]</td>\n",
       "      <td>[broken, vehicle, removed, flyover]</td>\n",
       "    </tr>\n",
       "    <tr>\n",
       "      <th>freq</th>\n",
       "      <td>143</td>\n",
       "      <td>181</td>\n",
       "    </tr>\n",
       "    <tr>\n",
       "      <th rowspan=\"4\" valign=\"top\">traffic_class</th>\n",
       "      <th>count</th>\n",
       "      <td>4758</td>\n",
       "      <td>13533</td>\n",
       "    </tr>\n",
       "    <tr>\n",
       "      <th>unique</th>\n",
       "      <td>1</td>\n",
       "      <td>2</td>\n",
       "    </tr>\n",
       "    <tr>\n",
       "      <th>top</th>\n",
       "      <td>normal traffic</td>\n",
       "      <td>external event</td>\n",
       "    </tr>\n",
       "    <tr>\n",
       "      <th>freq</th>\n",
       "      <td>4758</td>\n",
       "      <td>13236</td>\n",
       "    </tr>\n",
       "  </tbody>\n",
       "</table>\n",
       "</div>"
      ],
      "text/plain": [
       "traffic_status                               0  \\\n",
       "traffic_twt   count                       4758   \n",
       "              unique                      3043   \n",
       "              top      Road is free to traffic   \n",
       "              freq                          89   \n",
       "twt_clean     count                       4758   \n",
       "              unique                      2654   \n",
       "              top     [flyover, free, traffic]   \n",
       "              freq                         143   \n",
       "traffic_class count                       4758   \n",
       "              unique                         1   \n",
       "              top               normal traffic   \n",
       "              freq                        4758   \n",
       "\n",
       "traffic_status                                                        1  \n",
       "traffic_twt   count                                               13533  \n",
       "              unique                                              10528  \n",
       "              top     Broken down vehicle has been removed from Flyover  \n",
       "              freq                                                   95  \n",
       "twt_clean     count                                               13533  \n",
       "              unique                                               9856  \n",
       "              top                   [broken, vehicle, removed, flyover]  \n",
       "              freq                                                  181  \n",
       "traffic_class count                                               13533  \n",
       "              unique                                                  2  \n",
       "              top                                        external event  \n",
       "              freq                                                13236  "
      ]
     },
     "execution_count": 7,
     "metadata": {},
     "output_type": "execute_result"
    }
   ],
   "source": [
    "data.groupby('traffic_status').describe().T"
   ]
  },
  {
   "cell_type": "code",
   "execution_count": 8,
   "metadata": {},
   "outputs": [
    {
     "data": {
      "text/plain": [
       "1    13533\n",
       "0     4758\n",
       "Name: traffic_status, dtype: int64"
      ]
     },
     "execution_count": 8,
     "metadata": {},
     "output_type": "execute_result"
    }
   ],
   "source": [
    "data['traffic_status'].value_counts()"
   ]
  },
  {
   "cell_type": "code",
   "execution_count": 9,
   "metadata": {},
   "outputs": [
    {
     "data": {
      "image/png": "[encoded data removed]",
      "text/plain": [
       "<Figure size 432x432 with 1 Axes>"
      ]
     },
     "metadata": {},
     "output_type": "display_data"
    },
    {
     "data": {
      "image/png": "[encoded data removed]",
      "text/plain": [
       "<Figure size 432x432 with 1 Axes>"
      ]
     },
     "metadata": {},
     "output_type": "display_data"
    }
   ],
   "source": [
    "data['traffic_class'].value_counts().plot(kind = 'pie', explode = [0, 0.08, 0.1], figsize = (6, 6), autopct = '%1.2f%%')\n",
    "plt.ylabel('CrashOrCongestion vs ExternalEvent vs NormalTraffic ')\n",
    "plt.legend(['CrashOrCongestion', 'ExternalEvent', 'NormalTraffic'])\n",
    "plt.show()\n",
    "\n",
    "data['traffic_status'].value_counts().plot(kind = 'pie', explode = [0, 0.08], figsize = (6, 6), autopct = '%1.2f%%')\n",
    "plt.ylabel('Traffic vs NormalTraffic ')\n",
    "plt.legend(['Traffic', 'NormalTraffic'])\n",
    "plt.show()"
   ]
  },
  {
   "cell_type": "markdown",
   "metadata": {},
   "source": [
    "# Count Vectorization and training-testing dataset split"
   ]
  },
  {
   "cell_type": "code",
   "execution_count": 10,
   "metadata": {},
   "outputs": [],
   "source": [
    "# convert a collection of text to a matrice of tokens\n",
    "from sklearn.feature_extraction.text import CountVectorizer\n",
    "tweet_bow = CountVectorizer(analyzer = clean_text).fit_transform(data['traffic_twt'])"
   ]
  },
  {
   "cell_type": "code",
   "execution_count": null,
   "metadata": {},
   "outputs": [],
   "source": []
  },
  {
   "cell_type": "code",
   "execution_count": 11,
   "metadata": {},
   "outputs": [],
   "source": [
    "# split the data into 80% training and 20% testing\n",
    "from sklearn.model_selection import train_test_split\n",
    "X_train, X_test, y_train, y_test = train_test_split(tweet_bow, data['traffic_class'], test_size = 0.20, random_state = 0)"
   ]
  },
  {
   "cell_type": "code",
   "execution_count": 12,
   "metadata": {},
   "outputs": [
    {
     "data": {
      "text/plain": [
       "(18291, 4489)"
      ]
     },
     "execution_count": 12,
     "metadata": {},
     "output_type": "execute_result"
    }
   ],
   "source": [
    "# get the shape of tweet_bow\n",
    "tweet_bow.shape"
   ]
  },
  {
   "cell_type": "code",
   "execution_count": null,
   "metadata": {},
   "outputs": [],
   "source": []
  },
  {
   "cell_type": "markdown",
   "metadata": {},
   "source": [
    "# Classification - Naive Bayes Classifier"
   ]
  },
  {
   "cell_type": "code",
   "execution_count": 13,
   "metadata": {},
   "outputs": [],
   "source": [
    "# create and train the Naive Bayes Classifier\n",
    "from sklearn.naive_bayes import MultinomialNB\n",
    "classifier = MultinomialNB().fit(X_train, y_train)"
   ]
  },
  {
   "cell_type": "markdown",
   "metadata": {},
   "source": [
    "# training"
   ]
  },
  {
   "cell_type": "code",
   "execution_count": 14,
   "metadata": {},
   "outputs": [
    {
     "name": "stdout",
     "output_type": "stream",
     "text": [
      "['external event' 'external event' 'external event' ... 'external event'\n",
      " 'crash or congestion' 'normal traffic']\n",
      "['external event' 'external event' 'external event' ... 'external event'\n",
      " 'crash or congestion' 'normal traffic']\n"
     ]
    }
   ],
   "source": [
    "# print the predictions\n",
    "print(classifier.predict(X_train))\n",
    "\n",
    "# print the actual values\n",
    "print(y_train.values)"
   ]
  },
  {
   "cell_type": "code",
   "execution_count": 15,
   "metadata": {},
   "outputs": [
    {
     "name": "stdout",
     "output_type": "stream",
     "text": [
      "                     precision    recall  f1-score   support\n",
      "\n",
      "crash or congestion       0.55      0.71      0.62       221\n",
      "     external event       0.99      0.98      0.98     10594\n",
      "     normal traffic       0.97      0.99      0.98      3817\n",
      "\n",
      "           accuracy                           0.98     14632\n",
      "          macro avg       0.84      0.89      0.86     14632\n",
      "       weighted avg       0.98      0.98      0.98     14632\n",
      "\n",
      "\n",
      "Confusion Matrix: \n",
      " [[  157    64     0]\n",
      " [  128 10358   108]\n",
      " [    1    25  3791]]\n",
      "\n",
      "Accuracy:  0.9777200656096228\n"
     ]
    }
   ],
   "source": [
    "# evaluate the model on the training dataset\n",
    "from sklearn.metrics import classification_report, confusion_matrix, accuracy_score\n",
    "pred = classifier.predict(X_train)\n",
    "print(classification_report(y_train, pred))\n",
    "print()\n",
    "print('Confusion Matrix: \\n', confusion_matrix(y_train, pred))\n",
    "print()\n",
    "print('Accuracy: ', accuracy_score(y_train, pred))"
   ]
  },
  {
   "cell_type": "markdown",
   "metadata": {},
   "source": [
    "# testing"
   ]
  },
  {
   "cell_type": "code",
   "execution_count": 16,
   "metadata": {},
   "outputs": [
    {
     "name": "stdout",
     "output_type": "stream",
     "text": [
      "['external event' 'external event' 'external event' ... 'external event'\n",
      " 'external event' 'external event']\n",
      "['external event' 'external event' 'external event' ... 'external event'\n",
      " 'external event' 'external event']\n"
     ]
    }
   ],
   "source": [
    "# print the predictions\n",
    "print(classifier.predict(X_test))\n",
    "\n",
    "# print the actual values\n",
    "print(y_test.values)"
   ]
  },
  {
   "cell_type": "code",
   "execution_count": 17,
   "metadata": {},
   "outputs": [
    {
     "name": "stdout",
     "output_type": "stream",
     "text": [
      "                     precision    recall  f1-score   support\n",
      "\n",
      "crash or congestion       0.60      0.76      0.67        76\n",
      "     external event       0.99      0.97      0.98      2642\n",
      "     normal traffic       0.95      0.99      0.97       941\n",
      "\n",
      "           accuracy                           0.97      3659\n",
      "          macro avg       0.85      0.90      0.87      3659\n",
      "       weighted avg       0.97      0.97      0.97      3659\n",
      "\n",
      "\n",
      "Confusion Matrix: \n",
      " [[  58   18    0]\n",
      " [  38 2553   51]\n",
      " [   0   14  927]]\n",
      "\n",
      "Accuracy:  0.9669308554249795\n"
     ]
    }
   ],
   "source": [
    "# evaluate the model on the testing dataset\n",
    "from sklearn.metrics import classification_report, confusion_matrix, accuracy_score\n",
    "pred = classifier.predict(X_test)\n",
    "print(classification_report(y_test, pred))\n",
    "print()\n",
    "print('Confusion Matrix: \\n', confusion_matrix(y_test, pred))\n",
    "print()\n",
    "print('Accuracy: ', accuracy_score(y_test, pred))"
   ]
  },
  {
   "cell_type": "code",
   "execution_count": null,
   "metadata": {},
   "outputs": [],
   "source": []
  },
  {
   "cell_type": "markdown",
   "metadata": {},
   "source": [
    "# Classification - Support Vector Machine(SVM)"
   ]
  },
  {
   "cell_type": "code",
   "execution_count": 18,
   "metadata": {},
   "outputs": [
    {
     "data": {
      "text/plain": [
       "(18291, 4489)"
      ]
     },
     "execution_count": 18,
     "metadata": {},
     "output_type": "execute_result"
    }
   ],
   "source": [
    "# split the data into 80% training and 20% testing\n",
    "from sklearn.model_selection import train_test_split\n",
    "X_train, X_test, y_train, y_test = train_test_split(tweet_bow, data['traffic_class'], test_size = 0.20, random_state = 0)\n",
    "\n",
    "# get the shape of tweet_bow\n",
    "tweet_bow.shape"
   ]
  },
  {
   "cell_type": "code",
   "execution_count": 19,
   "metadata": {},
   "outputs": [
    {
     "data": {
      "text/plain": [
       "SVC(C=2.0, break_ties=False, cache_size=200, class_weight=None, coef0=0.0,\n",
       "    decision_function_shape='ovr', degree=3, gamma='auto', kernel='linear',\n",
       "    max_iter=-1, probability=False, random_state=None, shrinking=True,\n",
       "    tol=0.001, verbose=False)"
      ]
     },
     "execution_count": 19,
     "metadata": {},
     "output_type": "execute_result"
    }
   ],
   "source": [
    "# create and train the SVM\n",
    "from sklearn import svm\n",
    "\n",
    "# SVC - maximize datapoints from the hyperplane, kernel - mapping data into a higher dimentional space, gamma - kernel coefficient, C - penalty for incorrectly placed datapoints\n",
    "classifier = svm.SVC(kernel = 'linear', gamma = 'auto', C = 2.0)\n",
    "classifier.fit(X_train, y_train)"
   ]
  },
  {
   "cell_type": "markdown",
   "metadata": {},
   "source": [
    "# training"
   ]
  },
  {
   "cell_type": "code",
   "execution_count": 20,
   "metadata": {},
   "outputs": [
    {
     "name": "stdout",
     "output_type": "stream",
     "text": [
      "['external event' 'external event' 'external event' ... 'external event'\n",
      " 'crash or congestion' 'normal traffic']\n",
      "['external event' 'external event' 'external event' ... 'external event'\n",
      " 'crash or congestion' 'normal traffic']\n"
     ]
    }
   ],
   "source": [
    "# print the predictions\n",
    "print(classifier.predict(X_train))\n",
    "\n",
    "# print the actual values\n",
    "print(y_train.values)"
   ]
  },
  {
   "cell_type": "code",
   "execution_count": 21,
   "metadata": {},
   "outputs": [
    {
     "name": "stdout",
     "output_type": "stream",
     "text": [
      "                     precision    recall  f1-score   support\n",
      "\n",
      "crash or congestion       1.00      1.00      1.00       221\n",
      "     external event       1.00      1.00      1.00     10594\n",
      "     normal traffic       1.00      1.00      1.00      3817\n",
      "\n",
      "           accuracy                           1.00     14632\n",
      "          macro avg       1.00      1.00      1.00     14632\n",
      "       weighted avg       1.00      1.00      1.00     14632\n",
      "\n",
      "\n",
      "Confusion Matrix: \n",
      " [[  221     0     0]\n",
      " [    0 10594     0]\n",
      " [    0     0  3817]]\n",
      "\n",
      "Accuracy:  1.0\n"
     ]
    }
   ],
   "source": [
    "# evaluate the model on the training dataset\n",
    "from sklearn.metrics import classification_report, confusion_matrix, accuracy_score\n",
    "pred = classifier.predict(X_train)\n",
    "print(classification_report(y_train, pred))\n",
    "print()\n",
    "print('Confusion Matrix: \\n', confusion_matrix(y_train, pred))\n",
    "print()\n",
    "print('Accuracy: ', accuracy_score(y_train, pred))"
   ]
  },
  {
   "cell_type": "markdown",
   "metadata": {},
   "source": [
    "# testing"
   ]
  },
  {
   "cell_type": "code",
   "execution_count": 22,
   "metadata": {},
   "outputs": [
    {
     "name": "stdout",
     "output_type": "stream",
     "text": [
      "['external event' 'external event' 'external event' ... 'external event'\n",
      " 'external event' 'external event']\n",
      "['external event' 'external event' 'external event' ... 'external event'\n",
      " 'external event' 'external event']\n"
     ]
    }
   ],
   "source": [
    "# print the predictions\n",
    "print(classifier.predict(X_test))\n",
    "\n",
    "# print the actual values\n",
    "print(y_test.values)"
   ]
  },
  {
   "cell_type": "code",
   "execution_count": 23,
   "metadata": {},
   "outputs": [
    {
     "name": "stdout",
     "output_type": "stream",
     "text": [
      "                     precision    recall  f1-score   support\n",
      "\n",
      "crash or congestion       1.00      0.99      0.99        76\n",
      "     external event       1.00      1.00      1.00      2642\n",
      "     normal traffic       1.00      1.00      1.00       941\n",
      "\n",
      "           accuracy                           1.00      3659\n",
      "          macro avg       1.00      1.00      1.00      3659\n",
      "       weighted avg       1.00      1.00      1.00      3659\n",
      "\n",
      "\n",
      "Confusion Matrix: \n",
      " [[  75    0    1]\n",
      " [   0 2642    0]\n",
      " [   0    0  941]]\n",
      "\n",
      "Accuracy:  0.9997267012845039\n"
     ]
    }
   ],
   "source": [
    "# evaluate the model on the testing dataset\n",
    "from sklearn.metrics import classification_report, confusion_matrix, accuracy_score\n",
    "pred = classifier.predict(X_test)\n",
    "print(classification_report(y_test, pred))\n",
    "print()\n",
    "print('Confusion Matrix: \\n', confusion_matrix(y_test, pred))\n",
    "print()\n",
    "print('Accuracy: ', accuracy_score(y_test, pred))"
   ]
  },
  {
   "cell_type": "code",
   "execution_count": null,
   "metadata": {},
   "outputs": [],
   "source": []
  },
  {
   "cell_type": "markdown",
   "metadata": {},
   "source": [
    "# Classification - K Nearest Neighbor(KNN)"
   ]
  },
  {
   "cell_type": "code",
   "execution_count": 24,
   "metadata": {},
   "outputs": [
    {
     "data": {
      "text/plain": [
       "(18291, 4489)"
      ]
     },
     "execution_count": 24,
     "metadata": {},
     "output_type": "execute_result"
    }
   ],
   "source": [
    "# split the data into 80% training and 20% testing\n",
    "from sklearn.model_selection import train_test_split\n",
    "X_train, X_test, y_train, y_test = train_test_split(tweet_bow, data['traffic_class'], test_size = 0.20, random_state = 0)\n",
    "\n",
    "# get the shape of tweet_bow\n",
    "tweet_bow.shape"
   ]
  },
  {
   "cell_type": "code",
   "execution_count": 25,
   "metadata": {},
   "outputs": [],
   "source": [
    "# create and train the KNN\n",
    "from sklearn.neighbors import KNeighborsClassifier"
   ]
  },
  {
   "cell_type": "code",
   "execution_count": 26,
   "metadata": {},
   "outputs": [
    {
     "data": {
      "text/plain": [
       "KNeighborsClassifier(algorithm='auto', leaf_size=30, metric='minkowski',\n",
       "                     metric_params=None, n_jobs=None, n_neighbors=1, p=2,\n",
       "                     weights='uniform')"
      ]
     },
     "execution_count": 26,
     "metadata": {},
     "output_type": "execute_result"
    }
   ],
   "source": [
    "knn = KNeighborsClassifier(n_neighbors = 1)\n",
    "knn.fit(X_train, y_train)"
   ]
  },
  {
   "cell_type": "markdown",
   "metadata": {},
   "source": [
    "# training"
   ]
  },
  {
   "cell_type": "code",
   "execution_count": 27,
   "metadata": {},
   "outputs": [
    {
     "name": "stdout",
     "output_type": "stream",
     "text": [
      "['external event' 'external event' 'external event' ... 'external event'\n",
      " 'crash or congestion' 'normal traffic']\n",
      "['external event' 'external event' 'external event' ... 'external event'\n",
      " 'crash or congestion' 'normal traffic']\n"
     ]
    }
   ],
   "source": [
    "# print the predictions\n",
    "print(knn.predict(X_train))\n",
    "\n",
    "# print the actual values\n",
    "print(y_train.values)"
   ]
  },
  {
   "cell_type": "code",
   "execution_count": 28,
   "metadata": {},
   "outputs": [
    {
     "name": "stdout",
     "output_type": "stream",
     "text": [
      "                     precision    recall  f1-score   support\n",
      "\n",
      "crash or congestion       1.00      1.00      1.00       221\n",
      "     external event       1.00      1.00      1.00     10594\n",
      "     normal traffic       1.00      1.00      1.00      3817\n",
      "\n",
      "           accuracy                           1.00     14632\n",
      "          macro avg       1.00      1.00      1.00     14632\n",
      "       weighted avg       1.00      1.00      1.00     14632\n",
      "\n",
      "\n",
      "Confusion Matrix: \n",
      " [[  221     0     0]\n",
      " [    0 10594     0]\n",
      " [    0     0  3817]]\n",
      "\n",
      "Accuracy:  1.0\n"
     ]
    }
   ],
   "source": [
    "# evaluate the model on the training dataset\n",
    "from sklearn.metrics import classification_report, confusion_matrix, accuracy_score\n",
    "pred = knn.predict(X_train)\n",
    "print(classification_report(y_train, pred))\n",
    "print()\n",
    "print('Confusion Matrix: \\n', confusion_matrix(y_train, pred))\n",
    "print()\n",
    "print('Accuracy: ', accuracy_score(y_train, pred))"
   ]
  },
  {
   "cell_type": "markdown",
   "metadata": {},
   "source": [
    "# testing"
   ]
  },
  {
   "cell_type": "code",
   "execution_count": 29,
   "metadata": {},
   "outputs": [
    {
     "name": "stdout",
     "output_type": "stream",
     "text": [
      "['external event' 'external event' 'external event' ... 'external event'\n",
      " 'external event' 'external event']\n",
      "['external event' 'external event' 'external event' ... 'external event'\n",
      " 'external event' 'external event']\n"
     ]
    }
   ],
   "source": [
    "# print the predictions\n",
    "print(knn.predict(X_test))\n",
    "\n",
    "# print the actual values\n",
    "print(y_test.values)"
   ]
  },
  {
   "cell_type": "code",
   "execution_count": 30,
   "metadata": {},
   "outputs": [
    {
     "name": "stdout",
     "output_type": "stream",
     "text": [
      "                     precision    recall  f1-score   support\n",
      "\n",
      "crash or congestion       0.96      0.92      0.94        76\n",
      "     external event       0.99      0.96      0.98      2642\n",
      "     normal traffic       0.90      0.98      0.94       941\n",
      "\n",
      "           accuracy                           0.97      3659\n",
      "          macro avg       0.95      0.95      0.95      3659\n",
      "       weighted avg       0.97      0.97      0.97      3659\n",
      "\n",
      "\n",
      "Confusion Matrix: \n",
      " [[  70    3    3]\n",
      " [   2 2543   97]\n",
      " [   1   18  922]]\n",
      "\n",
      "Accuracy:  0.9661109592784914\n"
     ]
    }
   ],
   "source": [
    "# evaluate the model on the testing dataset\n",
    "from sklearn.metrics import classification_report, confusion_matrix, accuracy_score\n",
    "pred = knn.predict(X_test)\n",
    "print(classification_report(y_test, pred))\n",
    "print()\n",
    "print('Confusion Matrix: \\n', confusion_matrix(y_test, pred))\n",
    "print()\n",
    "print('Accuracy: ', accuracy_score(y_test, pred))"
   ]
  },
  {
   "cell_type": "code",
   "execution_count": null,
   "metadata": {},
   "outputs": [],
   "source": []
  },
  {
   "cell_type": "markdown",
   "metadata": {},
   "source": [
    "# K Value"
   ]
  },
  {
   "cell_type": "code",
   "execution_count": 31,
   "metadata": {},
   "outputs": [],
   "source": [
    "error_rate = []\n",
    "\n",
    "for i in range(1, 40):\n",
    "    knn = KNeighborsClassifier(n_neighbors = i)\n",
    "    knn.fit(X_train, y_train)\n",
    "    pred_i = knn.predict(X_test)\n",
    "    error_rate.append(np.mean(pred_i != y_test))"
   ]
  },
  {
   "cell_type": "code",
   "execution_count": 32,
   "metadata": {},
   "outputs": [
    {
     "data": {
      "text/plain": [
       "Text(0, 0.5, 'Error Rate')"
      ]
     },
     "execution_count": 32,
     "metadata": {},
     "output_type": "execute_result"
    },
    {
     "data": {
      "image/png": "[encoded data removed]",
      "text/plain": [
       "<Figure size 720x432 with 1 Axes>"
      ]
     },
     "metadata": {
      "needs_background": "light"
     },
     "output_type": "display_data"
    }
   ],
   "source": [
    "plt.figure(figsize = (10, 6))\n",
    "plt.plot(range(1, 40), error_rate, color = 'blue', linestyle = 'dashed', marker = 'o', markerfacecolor = 'red', markersize = 10)\n",
    "\n",
    "plt.title('Error Rate vs K Value')\n",
    "plt.xlabel('K')\n",
    "plt.ylabel('Error Rate')"
   ]
  },
  {
   "cell_type": "code",
   "execution_count": 33,
   "metadata": {},
   "outputs": [
    {
     "name": "stdout",
     "output_type": "stream",
     "text": [
      "                     precision    recall  f1-score   support\n",
      "\n",
      "crash or congestion       0.94      0.96      0.95        76\n",
      "     external event       0.99      0.98      0.99      2642\n",
      "     normal traffic       0.95      0.97      0.96       941\n",
      "\n",
      "           accuracy                           0.98      3659\n",
      "          macro avg       0.96      0.97      0.96      3659\n",
      "       weighted avg       0.98      0.98      0.98      3659\n",
      "\n",
      "\n",
      "Confusion Matrix: \n",
      " [[  73    0    3]\n",
      " [   4 2589   49]\n",
      " [   1   25  915]]\n",
      "\n",
      "Accuracy:  0.977589505329325\n"
     ]
    }
   ],
   "source": [
    "# evaluate with K Value = 2\n",
    "\n",
    "knn = KNeighborsClassifier(n_neighbors = 2)\n",
    "knn.fit(X_train, y_train)\n",
    "\n",
    "from sklearn.metrics import classification_report, confusion_matrix, accuracy_score\n",
    "pred = knn.predict(X_test)\n",
    "print(classification_report(y_test, pred))\n",
    "print()\n",
    "print('Confusion Matrix: \\n', confusion_matrix(y_test, pred))\n",
    "print()\n",
    "print('Accuracy: ', accuracy_score(y_test, pred))"
   ]
  },
  {
   "cell_type": "code",
   "execution_count": null,
   "metadata": {},
   "outputs": [],
   "source": []
  },
  {
   "cell_type": "markdown",
   "metadata": {},
   "source": [
    "# Data visualization"
   ]
  },
  {
   "cell_type": "code",
   "execution_count": 34,
   "metadata": {},
   "outputs": [
    {
     "name": "stdout",
     "output_type": "stream",
     "text": [
      "    Classifier  Crash or Congestion  External Event  Normal Traffic\n",
      "0  Naive Bayes                 0.60             1.0            0.94\n",
      "1          SVM                 0.99             1.0            0.99\n",
      "2          KNN                 0.95             1.0            0.95\n",
      "    Classifier  Crash or Congestion  External Event  Normal Traffic\n",
      "0  Naive Bayes                 0.76            0.97            0.99\n",
      "1          SVM                 0.99            1.00            1.00\n",
      "2          KNN                 0.95            0.98            0.97\n",
      "    Classifier  Crash or Congestion  External Event  Normal Traffic\n",
      "0  Naive Bayes                 0.67            0.98            0.97\n",
      "1          SVM                 0.99            1.00            1.00\n",
      "2          KNN                 0.95            0.99            0.96\n"
     ]
    },
    {
     "data": {
      "image/png": "[encoded data removed]",
      "text/plain": [
       "<Figure size 576x360 with 1 Axes>"
      ]
     },
     "metadata": {
      "needs_background": "light"
     },
     "output_type": "display_data"
    },
    {
     "data": {
      "image/png": "[encoded data removed]",
      "text/plain": [
       "<Figure size 576x360 with 1 Axes>"
      ]
     },
     "metadata": {
      "needs_background": "light"
     },
     "output_type": "display_data"
    },
    {
     "data": {
      "image/png": "[encoded data removed]",
      "text/plain": [
       "<Figure size 576x360 with 1 Axes>"
      ]
     },
     "metadata": {
      "needs_background": "light"
     },
     "output_type": "display_data"
    }
   ],
   "source": [
    "#Data visualization\n",
    "#Precision\n",
    "\n",
    "df=pd.DataFrame([['Naive Bayes',0.60, 1.00, 0.94],['SVM',0.99, 1.00, 0.99],['KNN',0.95, 1.00, 0.95]],columns=['Classifier','Crash or Congestion', 'External Event', 'Normal Traffic'])\n",
    "print(df)\n",
    "\n",
    "df.plot(x='Classifier',kind='bar',title='Precision Graph',figsize = (8, 5),color=('black','blue','red'),ylim=(0.8,1))\n",
    "lgd = plt.legend(loc='center left',bbox_to_anchor=(1,0.5),fancybox=True,shadow=True)\n",
    "\n",
    "#Recall\n",
    "\n",
    "df=pd.DataFrame([['Naive Bayes',0.76, 0.97, 0.99],['SVM',0.99, 1.00, 1.00],['KNN',0.95, 0.98, 0.97]],columns=['Classifier','Crash or Congestion', 'External Event', 'Normal Traffic'])\n",
    "print(df)\n",
    "\n",
    "df.plot(x='Classifier',kind='bar',title='Recall Graph',figsize = (8, 5),color=('blue','red','cyan'),ylim=(0.8,1))\n",
    "lgd = plt.legend(loc='center left',bbox_to_anchor=(1,0.5),fancybox=True,shadow=True)\n",
    "\n",
    "#f1-score\n",
    "\n",
    "df=pd.DataFrame([['Naive Bayes',0.67, 0.98, 0.97],['SVM',0.99, 1.00, 1.00],['KNN',0.95, 0.99, 0.96]],columns=['Classifier','Crash or Congestion', 'External Event', 'Normal Traffic'])\n",
    "print(df)\n",
    "\n",
    "df.plot(x='Classifier',kind='bar',title='f1-score Graph',figsize = (8, 5),color=('purple','mediumpurple','plum'),ylim=(0.8,1))\n",
    "lgd = plt.legend(loc='center left',bbox_to_anchor=(1,0.5),fancybox=True,shadow=True)"
   ]
  },
  {
   "cell_type": "code",
   "execution_count": 35,
   "metadata": {},
   "outputs": [
    {
     "name": "stdout",
     "output_type": "stream",
     "text": [
      "    Classifier  Accuracy  Precision  Recall  f1-score\n",
      "0  Naive Bayes  0.966931      0.846   0.906     0.873\n",
      "1          KNN  0.977590      0.966   0.966     0.966\n",
      "2          SVM  0.999727      0.993   0.996     0.996\n"
     ]
    },
    {
     "data": {
      "image/png": "[encoded data removed]",
      "text/plain": [
       "<Figure size 576x360 with 1 Axes>"
      ]
     },
     "metadata": {
      "needs_background": "light"
     },
     "output_type": "display_data"
    }
   ],
   "source": [
    "df=pd.DataFrame([['Naive Bayes',0.9669308554249795,0.846,0.906,0.873],['KNN',0.977589505329325,0.966,0.966,0.966],['SVM',0.9997267012845039,0.993,0.996,0.996]],columns=['Classifier','Accuracy','Precision','Recall','f1-score'])\n",
    "print(df)\n",
    "\n",
    "df.plot(x='Classifier',kind='bar',title='Evaluation results for tweets filtering',figsize = (8, 5),color=('coral','mediumaquamarine','slategrey','lightsteelblue'),width=0.7,ylim=(0.8,1))\n",
    "lgd = plt.legend(loc='center left',bbox_to_anchor=(1,0.5),fancybox=True,shadow=True)"
   ]
  },
  {
   "cell_type": "code",
   "execution_count": null,
   "metadata": {},
   "outputs": [],
   "source": []
  }
 ],
 "metadata": {
  "kernelspec": {
   "display_name": "Python 3",
   "language": "python",
   "name": "python3"
  },
  "language_info": {
   "codemirror_mode": {
    "name": "ipython",
    "version": 3
   },
   "file_extension": ".py",
   "mimetype": "text/x-python",
   "name": "python",
   "nbconvert_exporter": "python",
   "pygments_lexer": "ipython3",
   "version": "3.7.6"
  }
 },
 "nbformat": 4,
 "nbformat_minor": 4
}
